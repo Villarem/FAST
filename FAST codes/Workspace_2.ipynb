{
 "cells": [
  {
   "cell_type": "code",
   "execution_count": 1,
   "metadata": {},
   "outputs": [],
   "source": [
    "#import_function\n",
    "import numpy as np\n",
    "import pandas as pd\n",
    "import math\n",
    "import matplotlib.pyplot as plt\n",
    "import os\n",
    "from datetime import datetime\n",
    "from statistics import stdev"
   ]
  },
  {
   "cell_type": "code",
   "execution_count": 7,
   "metadata": {},
   "outputs": [
    {
     "name": "stdout",
     "output_type": "stream",
     "text": [
      "[85.42427406695651, 88.31573236869565, 84.85734467043478, 85.48625377347827]\n",
      "1.3473980199704247\n"
     ]
    }
   ],
   "source": [
    "df = pd.read_csv(\"16May2023_ThermalConductivity_SS_NC_Test03.xlsx - sheet1.csv\")\n",
    "TC1 = df[\"TC1\"].mean()\n",
    "TC2 = df[\"TC2\"].mean()\n",
    "TC3 = df[\"TC3\"].mean()\n",
    "TC4 = df[\"TC4\"].mean()\n",
    "SD = []\n",
    "SD.append(TC1)\n",
    "SD.append(TC2)\n",
    "SD.append(TC3)\n",
    "SD.append(TC4)\n",
    "print(SD)\n",
    "SD_G1 = np.std(SD)\n",
    "print(SD_G1)"
   ]
  },
  {
   "cell_type": "code",
   "execution_count": null,
   "metadata": {},
   "outputs": [],
   "source": []
  }
 ],
 "metadata": {
  "kernelspec": {
   "display_name": "eFAST",
   "language": "python",
   "name": "efast"
  },
  "language_info": {
   "codemirror_mode": {
    "name": "ipython",
    "version": 3
   },
   "file_extension": ".py",
   "mimetype": "text/x-python",
   "name": "python",
   "nbconvert_exporter": "python",
   "pygments_lexer": "ipython3",
   "version": "3.8.10"
  },
  "orig_nbformat": 4
 },
 "nbformat": 4,
 "nbformat_minor": 2
}
