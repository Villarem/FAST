{
 "cells": [
  {
   "cell_type": "markdown",
   "metadata": {},
   "source": []
  },
  {
   "cell_type": "code",
   "execution_count": 1,
   "metadata": {},
   "outputs": [],
   "source": [
    "import numpy as np\n",
    "import pandas as pd\n",
    "import os\n"
   ]
  },
  {
   "cell_type": "code",
   "execution_count": 2,
   "metadata": {},
   "outputs": [
    {
     "name": "stdout",
     "output_type": "stream",
     "text": [
      "Error occurred while processing file: G:\\Shared drives\\EGR-Mechanical and Nuclear Engineering-FAST Research Group\\Projects\\additive_manufacturing\\5_resin_thermalconductivity\\Data\\Ethans Data\\21June2023_ThermalConductivity_StainlessSteel_Channeled\\21May2023_ThermalConductivity_SS_C_Test07.xlsx\n",
      "Error message: expected <class 'openpyxl.styles.fills.Fill'>\n"
     ]
    }
   ],
   "source": [
    "import os\n",
    "import pandas as pd\n",
    "import re\n",
    "\n",
    "folder_path = r\"G:\\Shared drives\\EGR-Mechanical and Nuclear Engineering-FAST Research Group\\Projects\\additive_manufacturing\\5_resin_thermalconductivity\\Data\\Ethans Data\\21June2023_ThermalConductivity_StainlessSteel_Channeled\"\n",
    "output_folder = r\"C:\\Users\\villa\\Downloads\\Csv files\"\n",
    "\n",
    "folder_contents = os.listdir(folder_path)\n",
    "\n",
    "xlsx_files = []\n",
    "\n",
    "for file in folder_contents:\n",
    "    if file.endswith(\".xlsx\") and file.startswith(\"21\"):\n",
    "        xlsx_files.append(os.path.join(folder_path, file))\n",
    "\n",
    "# Sort the files based on numerical order in the file names\n",
    "xlsx_files.sort(key=lambda x: int(re.search(r'\\d+', x).group()))\n",
    "\n",
    "for file in xlsx_files:\n",
    "    try:\n",
    "        read_file = pd.read_excel(file)\n",
    "        csv_file = os.path.splitext(os.path.basename(file))[0] + \".csv\"\n",
    "        output_path = os.path.join(output_folder, csv_file)\n",
    "        read_file.to_csv(output_path, index=False, header=True)\n",
    "    except Exception as e:\n",
    "        print(f\"Error occurred while processing file: {file}\")\n",
    "        print(f\"Error message: {str(e)}\")\n"
   ]
  }
 ],
 "metadata": {
  "kernelspec": {
   "display_name": "eFAST",
   "language": "python",
   "name": "efast"
  },
  "language_info": {
   "codemirror_mode": {
    "name": "ipython",
    "version": 3
   },
   "file_extension": ".py",
   "mimetype": "text/x-python",
   "name": "python",
   "nbconvert_exporter": "python",
   "pygments_lexer": "ipython3",
   "version": "3.8.10"
  },
  "orig_nbformat": 4
 },
 "nbformat": 4,
 "nbformat_minor": 2
}
