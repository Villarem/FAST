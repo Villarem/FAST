{
 "cells": [
  {
   "cell_type": "markdown",
   "metadata": {},
   "source": []
  },
  {
   "cell_type": "code",
   "execution_count": 3,
   "metadata": {},
   "outputs": [],
   "source": [
    "import numpy as np\n",
    "import pandas as pd\n",
    "import os\n",
    "import openpyxl\n"
   ]
  },
  {
   "cell_type": "code",
   "execution_count": 4,
   "metadata": {},
   "outputs": [],
   "source": [
    "import os\n",
    "import pandas as pd\n",
    "import re\n",
    "\n",
    "#os.makedirs() <- can be used to make a new folder in the directory if needed\n",
    "folder_path = r\"G:\\Shared drives\\EGR-Mechanical and Nuclear Engineering-FAST Research Group\\Projects\\additive_manufacturing\\5_resin_thermalconductivity\\Data\\Ethans Data\\16May2023_ThermalConductivity_StainlessSteel_NotChanneled\"\n",
    "output_folder = str(os.getcwd()+\"\\\\Csv_files\")\n",
    "\n",
    "folder_contents = os.listdir(folder_path)\n",
    "\n",
    "xlsx_files = []\n",
    "\n",
    "for file in folder_contents:\n",
    "    if file.endswith(\".xlsx\") and file.startswith(\"16\"):\n",
    "        xlsx_files.append(os.path.join(folder_path, file))\n",
    "\n",
    "# Sort the files based on numerical order in the file names\n",
    "xlsx_files.sort(key=lambda x: int(re.search(r'\\d+', x).group()))\n",
    "\n",
    "for file in xlsx_files:\n",
    "    try:\n",
    "        read_file = pd.read_excel(file)\n",
    "        csv_file = os.path.splitext(os.path.basename(file))[0] + \".csv\"\n",
    "        output_path = os.path.join(output_folder, csv_file)\n",
    "        read_file.to_csv(output_path, index=False, header=True)\n",
    "    except Exception as e:\n",
    "        print(f\"Error occurred while processing file: {file}\")\n",
    "        print(f\"Error message: {str(e)}\")\n"
   ]
  }
 ],
 "metadata": {
  "kernelspec": {
   "display_name": "FAST",
   "language": "python",
   "name": "python3"
  },
  "language_info": {
   "codemirror_mode": {
    "name": "ipython",
    "version": 3
   },
   "file_extension": ".py",
   "mimetype": "text/x-python",
   "name": "python",
   "nbconvert_exporter": "python",
   "pygments_lexer": "ipython3",
   "version": "3.10.11"
  },
  "orig_nbformat": 4
 },
 "nbformat": 4,
 "nbformat_minor": 2
}
