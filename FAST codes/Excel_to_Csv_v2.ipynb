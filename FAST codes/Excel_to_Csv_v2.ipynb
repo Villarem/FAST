{
 "cells": [
  {
   "cell_type": "code",
   "execution_count": 1,
   "metadata": {},
   "outputs": [],
   "source": [
    "import os\n",
    "import pandas as pd\n",
    "from lvm_read import read"
   ]
  },
  {
   "cell_type": "code",
   "execution_count": 2,
   "metadata": {},
   "outputs": [
    {
     "name": "stdout",
     "output_type": "stream",
     "text": [
      "dict_keys(['Decimal_Separator', 'Writer_Version', 'Reader_Version', 'Separator', 'Multi_Headings', 'X_Columns', 'Time_Pref', 'Operator', 'Date', 'Time', 0, 1, 2, 3, 4, 5, 6, 7, 8, 9, 10, 11, 12, 13, 14, 15, 16, 17, 18, 19, 20, 21, 22, 23, 24, 25, 26, 27, 28, 29, 30, 31, 32, 33, 34, 35, 36, 37, 38, 39, 40, 41, 42, 43, 44, 45, 'Segments'])\n"
     ]
    },
    {
     "ename": "KeyError",
     "evalue": "'Value'",
     "output_type": "error",
     "traceback": [
      "\u001b[1;31m---------------------------------------------------------------------------\u001b[0m",
      "\u001b[1;31mKeyError\u001b[0m                                  Traceback (most recent call last)",
      "Cell \u001b[1;32mIn[2], line 37\u001b[0m\n\u001b[0;32m     34\u001b[0m input_folder \u001b[39m=\u001b[39m \u001b[39mr\u001b[39m\u001b[39m\"\u001b[39m\u001b[39mG:\u001b[39m\u001b[39m\\\u001b[39m\u001b[39mShared drives\u001b[39m\u001b[39m\\\u001b[39m\u001b[39mEGR-MNE-FAST Research Group-ExperimentalData\u001b[39m\u001b[39m\\\u001b[39m\u001b[39mProjects\u001b[39m\u001b[39m\\\u001b[39m\u001b[39madditive_manufacturing\u001b[39m\u001b[39m\\\u001b[39m\u001b[39mprojects\u001b[39m\u001b[39m\\\u001b[39m\u001b[39mthermal_conductivity\u001b[39m\u001b[39m\\\u001b[39m\u001b[39mData\u001b[39m\u001b[39m\\\u001b[39m\u001b[39mEthans Data\u001b[39m\u001b[39m\\\u001b[39m\u001b[39m21July2023_ThermalConductivity_StainlessSteel_NonChanneled\u001b[39m\u001b[39m\"\u001b[39m\n\u001b[0;32m     35\u001b[0m output_folder \u001b[39m=\u001b[39m \u001b[39mr\u001b[39m\u001b[39m\"\u001b[39m\u001b[39mG:\u001b[39m\u001b[39m\\\u001b[39m\u001b[39mShared drives\u001b[39m\u001b[39m\\\u001b[39m\u001b[39mEGR-MNE-FAST Research Group-ExperimentalData\u001b[39m\u001b[39m\\\u001b[39m\u001b[39mProjects\u001b[39m\u001b[39m\\\u001b[39m\u001b[39madditive_manufacturing\u001b[39m\u001b[39m\\\u001b[39m\u001b[39mprojects\u001b[39m\u001b[39m\\\u001b[39m\u001b[39mthermal_conductivity\u001b[39m\u001b[39m\\\u001b[39m\u001b[39mData\u001b[39m\u001b[39m\\\u001b[39m\u001b[39mEthans Data\u001b[39m\u001b[39m\\\u001b[39m\u001b[39m21July2023_ThermalConductivity_StainlessSteel_NonChanneled\u001b[39m\u001b[39m\\\u001b[39m\u001b[39mCsv_files\u001b[39m\u001b[39m\"\u001b[39m\n\u001b[1;32m---> 37\u001b[0m lvm_to_csv(input_folder, output_folder)\n",
      "Cell \u001b[1;32mIn[2], line 29\u001b[0m, in \u001b[0;36mlvm_to_csv\u001b[1;34m(input_folder, output_folder)\u001b[0m\n\u001b[0;32m     27\u001b[0m \u001b[39mwith\u001b[39;00m \u001b[39mopen\u001b[39m(output_path, \u001b[39m'\u001b[39m\u001b[39mw\u001b[39m\u001b[39m'\u001b[39m) \u001b[39mas\u001b[39;00m csv_file:\n\u001b[0;32m     28\u001b[0m     csv_file\u001b[39m.\u001b[39mwrite(\u001b[39m'\u001b[39m\u001b[39mTime (s), Value\u001b[39m\u001b[39m\\n\u001b[39;00m\u001b[39m'\u001b[39m)\n\u001b[1;32m---> 29\u001b[0m     \u001b[39mfor\u001b[39;00m time, value \u001b[39min\u001b[39;00m \u001b[39mzip\u001b[39m(data[\u001b[39m'\u001b[39m\u001b[39mTime\u001b[39m\u001b[39m'\u001b[39m], data[\u001b[39m'\u001b[39;49m\u001b[39mValue\u001b[39;49m\u001b[39m'\u001b[39;49m]):\n\u001b[0;32m     30\u001b[0m         csv_file\u001b[39m.\u001b[39mwrite(\u001b[39mf\u001b[39m\u001b[39m\"\u001b[39m\u001b[39m{\u001b[39;00mtime\u001b[39m}\u001b[39;00m\u001b[39m, \u001b[39m\u001b[39m{\u001b[39;00mvalue\u001b[39m}\u001b[39;00m\u001b[39m\\n\u001b[39;00m\u001b[39m\"\u001b[39m)\n",
      "\u001b[1;31mKeyError\u001b[0m: 'Value'"
     ]
    }
   ],
   "source": [
    "import os\n",
    "from lvm_read import read\n",
    "\n",
    "def lvm_to_csv(input_folder, output_folder):\n",
    "    # Create the output folder if it doesn't exist\n",
    "    if not os.path.exists(output_folder):\n",
    "        os.makedirs(output_folder)\n",
    "\n",
    "    # Get a list of all files in the input folder\n",
    "    file_list = os.listdir(input_folder)\n",
    "\n",
    "    # Filter only .lvm files\n",
    "    lvm_files = [file for file in file_list if file.endswith('.lvm')]\n",
    "\n",
    "    for lvm_file in lvm_files:\n",
    "        input_path = os.path.join(input_folder, lvm_file)\n",
    "        output_file = os.path.splitext(lvm_file)[0] + '.csv'\n",
    "        output_path = os.path.join(output_folder, output_file)\n",
    "\n",
    "        # Read .lvm and convert to .csv\n",
    "        data = read(input_path)\n",
    "\n",
    "        # Inspect the keys and their corresponding data\n",
    "        print(data.keys())\n",
    "\n",
    "        # Replace 'Time' and 'Value' with the correct keys based on your .lvm file structure\n",
    "        with open(output_path, 'w') as csv_file:\n",
    "            csv_file.write('Time (s), Value\\n')\n",
    "            for time, value in zip(data['Time'], data['Value']):\n",
    "                csv_file.write(f\"{time}, {value}\\n\")\n",
    "\n",
    "if __name__ == \"__main__\":\n",
    "    # Replace these paths with your desired input and output folders\n",
    "    input_folder = r\"G:\\Shared drives\\EGR-MNE-FAST Research Group-ExperimentalData\\Projects\\additive_manufacturing\\projects\\thermal_conductivity\\Data\\Ethans Data\\21July2023_ThermalConductivity_StainlessSteel_NonChanneled\"\n",
    "    output_folder = r\"G:\\Shared drives\\EGR-MNE-FAST Research Group-ExperimentalData\\Projects\\additive_manufacturing\\projects\\thermal_conductivity\\Data\\Ethans Data\\21July2023_ThermalConductivity_StainlessSteel_NonChanneled\\Csv_files\"\n",
    "\n",
    "    lvm_to_csv(input_folder, output_folder)\n"
   ]
  },
  {
   "cell_type": "code",
   "execution_count": null,
   "metadata": {},
   "outputs": [
    {
     "ename": "KeyError",
     "evalue": "'Value'",
     "output_type": "error",
     "traceback": [
      "\u001b[1;31m---------------------------------------------------------------------------\u001b[0m",
      "\u001b[1;31mKeyError\u001b[0m                                  Traceback (most recent call last)",
      "Cell \u001b[1;32mIn[11], line 1\u001b[0m\n\u001b[1;32m----> 1\u001b[0m lvm_to_csv(\u001b[39mr\u001b[39;49m\u001b[39m\"\u001b[39;49m\u001b[39mG:\u001b[39;49m\u001b[39m\\\u001b[39;49m\u001b[39mShared drives\u001b[39;49m\u001b[39m\\\u001b[39;49m\u001b[39mEGR-MNE-FAST Research Group-ExperimentalData\u001b[39;49m\u001b[39m\\\u001b[39;49m\u001b[39mProjects\u001b[39;49m\u001b[39m\\\u001b[39;49m\u001b[39madditive_manufacturing\u001b[39;49m\u001b[39m\\\u001b[39;49m\u001b[39mprojects\u001b[39;49m\u001b[39m\\\u001b[39;49m\u001b[39mthermal_conductivity\u001b[39;49m\u001b[39m\\\u001b[39;49m\u001b[39mData\u001b[39;49m\u001b[39m\\\u001b[39;49m\u001b[39mEthans Data\u001b[39;49m\u001b[39m\\\u001b[39;49m\u001b[39m21July2023_ThermalConductivity_StainlessSteel_NonChanneled\u001b[39;49m\u001b[39m\"\u001b[39;49m, \u001b[39mr\u001b[39;49m\u001b[39m\"\u001b[39;49m\u001b[39mG:\u001b[39;49m\u001b[39m\\\u001b[39;49m\u001b[39mShared drives\u001b[39;49m\u001b[39m\\\u001b[39;49m\u001b[39mEGR-MNE-FAST Research Group-ExperimentalData\u001b[39;49m\u001b[39m\\\u001b[39;49m\u001b[39mProjects\u001b[39;49m\u001b[39m\\\u001b[39;49m\u001b[39madditive_manufacturing\u001b[39;49m\u001b[39m\\\u001b[39;49m\u001b[39mprojects\u001b[39;49m\u001b[39m\\\u001b[39;49m\u001b[39mthermal_conductivity\u001b[39;49m\u001b[39m\\\u001b[39;49m\u001b[39mData\u001b[39;49m\u001b[39m\\\u001b[39;49m\u001b[39mEthans Data\u001b[39;49m\u001b[39m\\\u001b[39;49m\u001b[39m21July2023_ThermalConductivity_StainlessSteel_NonChanneled\u001b[39;49m\u001b[39m\\\u001b[39;49m\u001b[39mCsv_files\u001b[39;49m\u001b[39m\"\u001b[39;49m)\n",
      "Cell \u001b[1;32mIn[10], line 21\u001b[0m, in \u001b[0;36mlvm_to_csv\u001b[1;34m(input_folder, output_folder)\u001b[0m\n\u001b[0;32m     19\u001b[0m \u001b[39mwith\u001b[39;00m \u001b[39mopen\u001b[39m(output_path, \u001b[39m'\u001b[39m\u001b[39mw\u001b[39m\u001b[39m'\u001b[39m) \u001b[39mas\u001b[39;00m csv_file:\n\u001b[0;32m     20\u001b[0m     csv_file\u001b[39m.\u001b[39mwrite(\u001b[39m'\u001b[39m\u001b[39mTime (s), Value\u001b[39m\u001b[39m\\n\u001b[39;00m\u001b[39m'\u001b[39m)\n\u001b[1;32m---> 21\u001b[0m     \u001b[39mfor\u001b[39;00m time, value \u001b[39min\u001b[39;00m \u001b[39mzip\u001b[39m(data[\u001b[39m'\u001b[39m\u001b[39mTime\u001b[39m\u001b[39m'\u001b[39m], data[\u001b[39m'\u001b[39;49m\u001b[39mValue\u001b[39;49m\u001b[39m'\u001b[39;49m]):\n\u001b[0;32m     22\u001b[0m         csv_file\u001b[39m.\u001b[39mwrite(\u001b[39mf\u001b[39m\u001b[39m\"\u001b[39m\u001b[39m{\u001b[39;00mtime\u001b[39m}\u001b[39;00m\u001b[39m, \u001b[39m\u001b[39m{\u001b[39;00mvalue\u001b[39m}\u001b[39;00m\u001b[39m\\n\u001b[39;00m\u001b[39m\"\u001b[39m)\n",
      "\u001b[1;31mKeyError\u001b[0m: 'Value'"
     ]
    }
   ],
   "source": [
    "lvm_to_csv(r\"G:\\Shared drives\\EGR-MNE-FAST Research Group-ExperimentalData\\Projects\\additive_manufacturing\\projects\\thermal_conductivity\\Data\\Ethans Data\\21July2023_ThermalConductivity_StainlessSteel_NonChanneled\", r\"G:\\Shared drives\\EGR-MNE-FAST Research Group-ExperimentalData\\Projects\\additive_manufacturing\\projects\\thermal_conductivity\\Data\\Ethans Data\\21July2023_ThermalConductivity_StainlessSteel_NonChanneled\\Csv_files\")"
   ]
  }
 ],
 "metadata": {
  "kernelspec": {
   "display_name": "eFAST",
   "language": "python",
   "name": "efast"
  },
  "language_info": {
   "codemirror_mode": {
    "name": "ipython",
    "version": 3
   },
   "file_extension": ".py",
   "mimetype": "text/x-python",
   "name": "python",
   "nbconvert_exporter": "python",
   "pygments_lexer": "ipython3",
   "version": "3.8.10"
  },
  "orig_nbformat": 4
 },
 "nbformat": 4,
 "nbformat_minor": 2
}
