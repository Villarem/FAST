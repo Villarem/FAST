{
 "cells": [
  {
   "cell_type": "code",
   "execution_count": 2,
   "metadata": {},
   "outputs": [],
   "source": [
    "import os\n",
    "import pandas as pd\n",
    "import numpy as np\n",
    "import matplotlib.pyplot as plt\n",
    "from statistics import stdev\n",
    "import os"
   ]
  },
  {
   "cell_type": "code",
   "execution_count": 3,
   "metadata": {},
   "outputs": [
    {
     "ename": "FileNotFoundError",
     "evalue": "[WinError 3] The system cannot find the path specified: 'c:\\\\Users\\\\villa\\\\AppData\\\\Local\\\\Programs\\\\Microsoft VS Code\\\\Csv_files'",
     "output_type": "error",
     "traceback": [
      "\u001b[1;31m---------------------------------------------------------------------------\u001b[0m",
      "\u001b[1;31mFileNotFoundError\u001b[0m                         Traceback (most recent call last)",
      "Cell \u001b[1;32mIn[3], line 5\u001b[0m\n\u001b[0;32m      2\u001b[0m folder_path \u001b[39m=\u001b[39m os\u001b[39m.\u001b[39mpath\u001b[39m.\u001b[39mjoin(os\u001b[39m.\u001b[39mgetcwd(), \u001b[39m\"\u001b[39m\u001b[39mCsv_files\u001b[39m\u001b[39m\"\u001b[39m)\n\u001b[0;32m      4\u001b[0m \u001b[39m# List CSV files in the folder\u001b[39;00m\n\u001b[1;32m----> 5\u001b[0m csv_files \u001b[39m=\u001b[39m [os\u001b[39m.\u001b[39mpath\u001b[39m.\u001b[39mjoin(folder_path, file) \u001b[39mfor\u001b[39;00m file \u001b[39min\u001b[39;00m os\u001b[39m.\u001b[39;49mlistdir(folder_path) \u001b[39mif\u001b[39;00m file\u001b[39m.\u001b[39mendswith(\u001b[39m\"\u001b[39m\u001b[39m.csv\u001b[39m\u001b[39m\"\u001b[39m)]\n\u001b[0;32m      7\u001b[0m \u001b[39m# Lists to store averages\u001b[39;00m\n\u001b[0;32m      8\u001b[0m TC_Group_1_AVG \u001b[39m=\u001b[39m []\n",
      "\u001b[1;31mFileNotFoundError\u001b[0m: [WinError 3] The system cannot find the path specified: 'c:\\\\Users\\\\villa\\\\AppData\\\\Local\\\\Programs\\\\Microsoft VS Code\\\\Csv_files'"
     ]
    }
   ],
   "source": [
    "\n",
    "\n",
    "# Folder path\n",
    "folder_path = os.path.join(os.getcwd(), \"Csv_files\")\n",
    "\n",
    "# List CSV files in the folder\n",
    "csv_files = [os.path.join(folder_path, file) for file in os.listdir(folder_path) if file.endswith(\".csv\")]\n",
    "\n",
    "# Lists to store averages\n",
    "TC_Group_1_AVG = []\n",
    "TC_Group_2_AVG = []\n",
    "TC_Group_3_AVG = []\n",
    "Time_Group = []\n",
    "\n",
    "# Iterate over CSV files\n",
    "for file in csv_files:\n",
    "    df = pd.read_csv(file)\n",
    "\n",
    "    # TC1-4\n",
    "    TC_1_4 = [\"TC1\", \"TC2\", \"TC3\", \"TC4\"]\n",
    "    TC_1_4_AVG = df[TC_1_4].mean().mean().round(3)\n",
    "    TC_Group_1_AVG.append(TC_1_4_AVG)\n",
    "\n",
    "    # TC5-8\n",
    "    TC_5_8 = [\"TC5\", \"TC6\", \"TC7\", \"TC8\"]\n",
    "    TC_5_8_AVG = df[TC_5_8].mean().mean().round(3)\n",
    "    TC_Group_2_AVG.append(TC_5_8_AVG)\n",
    "\n",
    "    # TC10-13\n",
    "    TC_10_13 = [\"TC10\", \"TC11\", \"TC12\", \"TC13\"]\n",
    "    TC_10_13_AVG = df[TC_10_13].mean().mean().round(3)\n",
    "    TC_Group_3_AVG.append(TC_10_13_AVG)\n",
    "\n",
    "    # Time\n",
    "    df['time_seconds'] = pd.to_datetime(df['Time']).dt.hour * 3600 + pd.to_datetime(df['Time']).dt.minute * 60\n",
    "    AVG_Time = df['time_seconds'].mean()\n",
    "    AVG_Time_Hour = AVG_Time * (1 / 3600)\n",
    "    Time_Group.append(round(AVG_Time_Hour, 2))\n",
    "\n",
    "# Time from 0\n",
    "First = Time_Group[0]\n",
    "Time_From_0 = [round(x - First, 2) for x in Time_Group]\n",
    "\n",
    "# Create DataFrame\n",
    "data = {\n",
    "    \"Time\": Time_From_0,\n",
    "    \"G1TAverage\": TC_Group_1_AVG,\n",
    "    \"G2TAverage\": TC_Group_2_AVG,\n",
    "    \"G3TAverage\": TC_Group_3_AVG\n",
    "}\n",
    "T_avg_chart = pd.DataFrame(data)\n",
    "T_avg_chart\n"
   ]
  }
 ],
 "metadata": {
  "kernelspec": {
   "display_name": "FAST",
   "language": "python",
   "name": "python3"
  },
  "language_info": {
   "codemirror_mode": {
    "name": "ipython",
    "version": 3
   },
   "file_extension": ".py",
   "mimetype": "text/x-python",
   "name": "python",
   "nbconvert_exporter": "python",
   "pygments_lexer": "ipython3",
   "version": "3.10.11"
  },
  "orig_nbformat": 4
 },
 "nbformat": 4,
 "nbformat_minor": 2
}
