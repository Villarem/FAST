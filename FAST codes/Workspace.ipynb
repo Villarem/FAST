{
 "cells": [
  {
   "cell_type": "code",
   "execution_count": null,
   "metadata": {},
   "outputs": [],
   "source": [
    "import numpy as np\n",
    "import pandas as pd\n",
    "import math\n",
    "import matplotlib.pyplot as plt\n",
    "import os\n",
    "from datetime import datetime\n",
    "folder_path = r\"C:\\Users\\villa\\Downloads\\Csv files\"\n",
    "folder_contents = os.listdir(folder_path)"
   ]
  },
  {
   "cell_type": "code",
   "execution_count": null,
   "metadata": {},
   "outputs": [],
   "source": [
    "A = \"pie\"\n",
    "B = \"balls\"\n",
    "glorp = f\"poop\"+ A + B + \"for the rest\"\n",
    "print(glorp)"
   ]
  },
  {
   "cell_type": "code",
   "execution_count": null,
   "metadata": {},
   "outputs": [],
   "source": [
    "save = True\n",
    "list = [\"_average_temperature\",\"_standard_deviation\",\"_thermal_conductivity\"]\n",
    "mist = [T_avg_chart,Standard_deviation,Thermal_conductivity]\n",
    "Charts_folder_path = r\"C:\\Users\\villa\\Documents\\GitHub\\FAST\\FAST codes\\Charts\\21June23\"\n",
    "os.makedirs(Charts_folder_path)\n",
    "length = len(list)\n",
    "if save == True:\n",
    "    for i in list:\n",
    "            x = 0 \n",
    "            var = mist[x]\n",
    "            save_folder = fr\"C:\\Users\\villa\\Documents\\GitHub\\FAST\\FAST codes\\Charts\\ \"+Day+ Month_year+\"\\ \"+Day+ Month_year+\"{i}.csv\"\n",
    "            var.to_csv(save_folder, index=False, header=True)\n",
    "            save_folder = fr\"C:\\Users\\villa\\Documents\\GitHub\\FAST\\FAST codes\\Charts\\21June23\\21June23{i}.xlsx\"\n",
    "            var.to_excel(save_folder, index=False, header=True)\n",
    "            x += 1"
   ]
  },
  {
   "cell_type": "code",
   "execution_count": null,
   "metadata": {},
   "outputs": [],
   "source": [
    "save = True\n",
    "list = [\"_average_temperature_vs_time\",\"_standard_deviation_vs_time\",\"_thermal_conductivity_vs_time\"]\n",
    "mist = [T_vs_time,SD_vs_time,K_vs_time]\n",
    "Graphs_folder_path = r\"C:\\Users\\villa\\Documents\\GitHub\\FAST\\FAST codes\\Graphs\\21June23\"\n",
    "os.makedirs(Graphs_folder_path)\n",
    "length = len(list)\n",
    "if save == True:\n",
    "    for i in list:\n",
    "            x = 0 \n",
    "            var = mist[x]\n",
    "            save_folder = fr\"C:\\Users\\villa\\Documents\\GitHub\\FAST\\FAST codes\\Graphs\\21June23\\21June23{i}.pdf\"\n",
    "            var.figure.savefig(save_folder, format='pdf')\n",
    "            "
   ]
  }
 ],
 "metadata": {
  "kernelspec": {
   "display_name": "FAST",
   "language": "python",
   "name": "python3"
  },
  "language_info": {
   "codemirror_mode": {
    "name": "ipython",
    "version": 3
   },
   "file_extension": ".py",
   "mimetype": "text/x-python",
   "name": "python",
   "nbconvert_exporter": "python",
   "pygments_lexer": "ipython3",
   "version": "3.10.11"
  },
  "orig_nbformat": 4
 },
 "nbformat": 4,
 "nbformat_minor": 2
}
