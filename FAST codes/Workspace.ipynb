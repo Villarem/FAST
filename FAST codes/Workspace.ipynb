{
 "cells": [
  {
   "cell_type": "code",
   "execution_count": 1,
   "metadata": {},
   "outputs": [],
   "source": [
    "import numpy as np\n",
    "import pandas as pd\n",
    "import math\n",
    "import matplotlib.pyplot as plt\n",
    "import os\n",
    "from datetime import datetime\n",
    "folder_path = r\"C:\\Users\\villa\\Downloads\\Csv files\"\n",
    "folder_contents = os.listdir(folder_path)"
   ]
  },
  {
   "cell_type": "code",
   "execution_count": null,
   "metadata": {},
   "outputs": [],
   "source": [
    "num_tc_vars = len(csv_files)\n",
    "\n",
    "# Create an empty list for each TC variable\n",
    "tc_vars = [[] for _ in range(num_tc_vars)]\n",
    "\n",
    "for file in csv_files:\n",
    "    df = pd.read_csv(file)\n",
    "    \n",
    "    # Iterate over the range of TC variables\n",
    "    for i in range(num_tc_vars):\n",
    "        # Generate the column name dynamically based on the current TC variable\n",
    "        column_name = f\"TC{i+1}\"\n",
    "        \n",
    "        # Calculate the mean for the current TC variable\n",
    "        tc_mean = df[column_name].mean()\n",
    "        \n",
    "        # Append the mean value to the corresponding list\n",
    "        tc_vars[i].append(tc_mean)\n",
    "\n",
    "# Print all the TC variables\n",
    "for i, tc_var in enumerate(tc_vars):\n",
    "    print(f\"TC{i+1}_tot:\", tc_var)"
   ]
  }
 ],
 "metadata": {
  "kernelspec": {
   "display_name": "eFAST",
   "language": "python",
   "name": "efast"
  },
  "language_info": {
   "codemirror_mode": {
    "name": "ipython",
    "version": 3
   },
   "file_extension": ".py",
   "mimetype": "text/x-python",
   "name": "python",
   "nbconvert_exporter": "python",
   "pygments_lexer": "ipython3",
   "version": "3.8.10"
  },
  "orig_nbformat": 4
 },
 "nbformat": 4,
 "nbformat_minor": 2
}
